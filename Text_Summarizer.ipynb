{
  "nbformat": 4,
  "nbformat_minor": 0,
  "metadata": {
    "colab": {
      "name": "Text Summarizer.ipynb",
      "provenance": []
    },
    "kernelspec": {
      "name": "python3",
      "display_name": "Python 3"
    },
    "language_info": {
      "name": "python"
    }
  },
  "cells": [
    {
      "cell_type": "markdown",
      "source": [
        "Importing required libraries"
      ],
      "metadata": {
        "id": "yK9xm-X_aeXg"
      }
    },
    {
      "cell_type": "code",
      "source": [
        "from sklearn.feature_extraction.text import TfidfVectorizer\n",
        "from spacy.lang.en import English\n",
        "import numpy as np"
      ],
      "metadata": {
        "id": "Bhkat5L2afcA"
      },
      "execution_count": null,
      "outputs": []
    },
    {
      "cell_type": "markdown",
      "source": [
        "Load spacy model for sentence tokenization"
      ],
      "metadata": {
        "id": "-52XCkJ5aoJ3"
      }
    },
    {
      "cell_type": "code",
      "source": [
        "nlp = English()\n",
        "nlp.add_pipe(nlp.create_pipe('sentencizer'))"
      ],
      "metadata": {
        "id": "ERpuMWm6aq3R"
      },
      "execution_count": null,
      "outputs": []
    },
    {
      "cell_type": "code",
      "source": [
        "text_corpus = \"\"\"\n",
        "Google celebrated British illustrator and artist Sir John Tenniel's \n",
        "200th birth anniversary with a doodle on February 28. An acclaimed \n",
        "Victorian painter, Tenniel is celebrated for his illustrations for \n",
        "Lewis Carroll's Alice's Adventures in Wonderland and Through the Looking-Glass.\n",
        "Tenniel was born in Bayswater, West London in 1820. At the age of 20, Tenniel \n",
        "received a major eye injury and eventually, lost sight in his right eye. \n",
        "From a very early age, Tenniel was appreciated as a humorist and soon after, \n",
        "also cultured his talent for scholarly caricature.\n",
        "His first illustration was for Samuel Carter Hall's The Book of British \n",
        "Ballads in 1842. Eight years later, he joined the historic weekly magazine \n",
        "Punch as a political cartoonist. Lewis Carroll noticed Tenniel's distinct style \n",
        "of work and in 1864, approached the artist to illustrate his book, Alice's \n",
        "Adventures in Wonderland. This association marked Carroll and Tenniel's creative \n",
        "partnership and continued with Through the Looking Glass in 1872. \"The result: \n",
        "a series of classic characters, such as Alice and the Cheshire Cat, as depicted \n",
        "in the Doodle artwork's rendition of their iconic meeting-characters who, along \n",
        "with many others, remain beloved by readers of all ages to this day,\" the Google \n",
        "Doodle page says. After working with Lewis Carroll, Tenniel resumed his work with \n",
        "Punch. For his work, Tenniel also received a knighthood in 1893.\n",
        "Sir John Tenniel died on February 25, 1914. He was 93.\n",
        "\"\"\""
      ],
      "metadata": {
        "id": "H8wo5JA2bIFg"
      },
      "execution_count": null,
      "outputs": []
    },
    {
      "cell_type": "markdown",
      "source": [
        "Create spacy document for further sentence level tokenization"
      ],
      "metadata": {
        "id": "kEyObX2jbNSq"
      }
    },
    {
      "cell_type": "code",
      "source": [
        "doc = nlp(text_corpus.replace(\"\\n\", \"\"))\n",
        "sentences = [sent.string.strip() for sent in doc.sents]"
      ],
      "metadata": {
        "id": "74xUDwqGbODg"
      },
      "execution_count": null,
      "outputs": []
    },
    {
      "cell_type": "markdown",
      "source": [
        "Peeking into our tokenized sentences"
      ],
      "metadata": {
        "id": "4BO5jG4-bfKz"
      }
    },
    {
      "cell_type": "code",
      "source": [
        "print(\"Senetence are: \\n\", sentences)"
      ],
      "metadata": {
        "colab": {
          "base_uri": "https://localhost:8080/"
        },
        "id": "_mb-4L16bgLL",
        "outputId": "9f1d1f71-f174-4e66-fa41-783c68410557"
      },
      "execution_count": null,
      "outputs": [
        {
          "output_type": "stream",
          "name": "stdout",
          "text": [
            "Senetence are: \n",
            " [\"Google celebrated British illustrator and artist Sir John Tenniel's 200th birth anniversary with a doodle on February 28.\", \"An acclaimed Victorian painter, Tenniel is celebrated for his illustrations for Lewis Carroll's Alice's Adventures in Wonderland and Through the Looking-Glass.\", 'Tenniel was born in Bayswater, West London in 1820.', 'At the age of 20, Tenniel received a major eye injury and eventually, lost sight in his right eye.', 'From a very early age, Tenniel was appreciated as a humorist and soon after, also cultured his talent for scholarly caricature.', \"His first illustration was for Samuel Carter Hall's The Book of British Ballads in 1842.\", 'Eight years later, he joined the historic weekly magazine Punch as a political cartoonist.', \"Lewis Carroll noticed Tenniel's distinct style of work and in 1864, approached the artist to illustrate his book, Alice's Adventures in Wonderland.\", 'This association marked Carroll and Tenniel\\'s creative partnership and continued with Through the Looking Glass in 1872. \"', 'The result: a series of classic characters, such as Alice and the Cheshire Cat, as depicted in the Doodle artwork\\'s rendition of their iconic meeting-characters who, along with many others, remain beloved by readers of all ages to this day,\" the Google Doodle page says.', 'After working with Lewis Carroll, Tenniel resumed his work with Punch.', 'For his work, Tenniel also received a knighthood in 1893.Sir John Tenniel died on February 25, 1914.', 'He was 93.']\n"
          ]
        }
      ]
    },
    {
      "cell_type": "markdown",
      "source": [
        "Creating sentence organizer"
      ],
      "metadata": {
        "id": "fGsdeqEdbwJm"
      }
    },
    {
      "cell_type": "code",
      "source": [
        "sentence_organizer = {k:v for v,k in enumerate(sentences)}"
      ],
      "metadata": {
        "id": "jMIjjjv_bxVE"
      },
      "execution_count": null,
      "outputs": []
    },
    {
      "cell_type": "markdown",
      "source": [
        "Peeking into our sentence organizer"
      ],
      "metadata": {
        "id": "4s-Pab-xb028"
      }
    },
    {
      "cell_type": "code",
      "source": [
        "print(\"Our sentence organizer: \\n\", sentence_organizer)"
      ],
      "metadata": {
        "colab": {
          "base_uri": "https://localhost:8080/"
        },
        "id": "cNpsZwhpb4Dp",
        "outputId": "216dee01-a80a-406e-ba49-6df7966757e0"
      },
      "execution_count": null,
      "outputs": [
        {
          "output_type": "stream",
          "name": "stdout",
          "text": [
            "Our sentence organizer: \n",
            " {\"Google celebrated British illustrator and artist Sir John Tenniel's 200th birth anniversary with a doodle on February 28.\": 0, \"An acclaimed Victorian painter, Tenniel is celebrated for his illustrations for Lewis Carroll's Alice's Adventures in Wonderland and Through the Looking-Glass.\": 1, 'Tenniel was born in Bayswater, West London in 1820.': 2, 'At the age of 20, Tenniel received a major eye injury and eventually, lost sight in his right eye.': 3, 'From a very early age, Tenniel was appreciated as a humorist and soon after, also cultured his talent for scholarly caricature.': 4, \"His first illustration was for Samuel Carter Hall's The Book of British Ballads in 1842.\": 5, 'Eight years later, he joined the historic weekly magazine Punch as a political cartoonist.': 6, \"Lewis Carroll noticed Tenniel's distinct style of work and in 1864, approached the artist to illustrate his book, Alice's Adventures in Wonderland.\": 7, 'This association marked Carroll and Tenniel\\'s creative partnership and continued with Through the Looking Glass in 1872. \"': 8, 'The result: a series of classic characters, such as Alice and the Cheshire Cat, as depicted in the Doodle artwork\\'s rendition of their iconic meeting-characters who, along with many others, remain beloved by readers of all ages to this day,\" the Google Doodle page says.': 9, 'After working with Lewis Carroll, Tenniel resumed his work with Punch.': 10, 'For his work, Tenniel also received a knighthood in 1893.Sir John Tenniel died on February 25, 1914.': 11, 'He was 93.': 12}\n"
          ]
        }
      ]
    },
    {
      "cell_type": "markdown",
      "source": [
        "Creating TF-IDF model"
      ],
      "metadata": {
        "id": "tHwm3Pzrb7m6"
      }
    },
    {
      "cell_type": "code",
      "source": [
        "tf_idf_vectorizer = TfidfVectorizer(min_df=2,  max_features=None, \n",
        "                                    strip_accents='unicode', \n",
        "                                    analyzer='word',\n",
        "                                    token_pattern=r'\\w{1,}',\n",
        "                                    ngram_range=(1, 3), \n",
        "                                    use_idf=1,smooth_idf=1,\n",
        "                                    sublinear_tf=1,\n",
        "                                    stop_words = 'english')"
      ],
      "metadata": {
        "id": "PKAt6mI-b_Fu"
      },
      "execution_count": null,
      "outputs": []
    },
    {
      "cell_type": "code",
      "source": [
        "tf_idf_vectorizer.fit(sentences)"
      ],
      "metadata": {
        "colab": {
          "base_uri": "https://localhost:8080/"
        },
        "id": "rvKXsf8icPME",
        "outputId": "439cf86f-7a4f-49e6-d773-bf2c865d6812"
      },
      "execution_count": null,
      "outputs": [
        {
          "output_type": "execute_result",
          "data": {
            "text/plain": [
              "TfidfVectorizer(min_df=2, ngram_range=(1, 3), smooth_idf=1,\n",
              "                stop_words='english', strip_accents='unicode', sublinear_tf=1,\n",
              "                token_pattern='\\\\w{1,}', use_idf=1)"
            ]
          },
          "metadata": {},
          "execution_count": 9
        }
      ]
    },
    {
      "cell_type": "code",
      "source": [
        "sentence_vectors = tf_idf_vectorizer.transform(sentences)"
      ],
      "metadata": {
        "id": "uxi-i2u8cP3l"
      },
      "execution_count": null,
      "outputs": []
    },
    {
      "cell_type": "markdown",
      "source": [
        "Performing sentence scoring"
      ],
      "metadata": {
        "id": "qA_Iv705cUqn"
      }
    },
    {
      "cell_type": "code",
      "source": [
        "sentence_scores = np.array(sentence_vectors.sum(axis=1)).ravel()\n",
        "print(len(sentences) == len(sentence_scores))"
      ],
      "metadata": {
        "colab": {
          "base_uri": "https://localhost:8080/"
        },
        "id": "HDrGE63rcoyU",
        "outputId": "c03ba7bc-89c1-4c30-a48e-75292d5b2579"
      },
      "execution_count": null,
      "outputs": [
        {
          "output_type": "stream",
          "name": "stdout",
          "text": [
            "True\n"
          ]
        }
      ]
    },
    {
      "cell_type": "code",
      "source": [
        "N = 3\n",
        "top_n_sentences = [sentences[ind] for ind in np.argsort(sentence_scores, axis=0)[::-1][:N]]"
      ],
      "metadata": {
        "id": "u54K--4Fcsgt"
      },
      "execution_count": null,
      "outputs": []
    },
    {
      "cell_type": "markdown",
      "source": [
        "Performing final summarization"
      ],
      "metadata": {
        "id": "9MGfXL7XcwO6"
      }
    },
    {
      "cell_type": "code",
      "source": [
        "mapped_top_n_sentences = [(sentence,sentence_organizer[sentence]) for sentence in top_n_sentences]\n",
        "print(\"Our top_n_sentence with their index: \\n\")\n",
        "for element in mapped_top_n_sentences:\n",
        "    print(element)\n",
        "\n",
        "mapped_top_n_sentences = sorted(mapped_top_n_sentences, key = lambda x: x[1])\n",
        "ordered_scored_sentences = [element[0] for element in mapped_top_n_sentences]\n",
        "\n",
        "summary = \" \".join(ordered_scored_sentences)"
      ],
      "metadata": {
        "colab": {
          "base_uri": "https://localhost:8080/"
        },
        "id": "v7OZfYVgczD2",
        "outputId": "dbe81700-0451-4c73-ab5b-9ab7af02a0db"
      },
      "execution_count": null,
      "outputs": [
        {
          "output_type": "stream",
          "name": "stdout",
          "text": [
            "Our top_n_sentence with their index: \n",
            "\n",
            "(\"An acclaimed Victorian painter, Tenniel is celebrated for his illustrations for Lewis Carroll's Alice's Adventures in Wonderland and Through the Looking-Glass.\", 1)\n",
            "(\"Lewis Carroll noticed Tenniel's distinct style of work and in 1864, approached the artist to illustrate his book, Alice's Adventures in Wonderland.\", 7)\n",
            "(\"Google celebrated British illustrator and artist Sir John Tenniel's 200th birth anniversary with a doodle on February 28.\", 0)\n"
          ]
        }
      ]
    },
    {
      "cell_type": "markdown",
      "source": [
        "Result / Summary"
      ],
      "metadata": {
        "id": "43tjMhosdI3a"
      }
    },
    {
      "cell_type": "code",
      "source": [
        "print(\"Summary: \\n\", summary)"
      ],
      "metadata": {
        "colab": {
          "base_uri": "https://localhost:8080/"
        },
        "id": "GatkoLXLdKbz",
        "outputId": "43c4d1e3-85e2-49d9-c632-826ae7748601"
      },
      "execution_count": null,
      "outputs": [
        {
          "output_type": "stream",
          "name": "stdout",
          "text": [
            "Summary: \n",
            " Google celebrated British illustrator and artist Sir John Tenniel's 200th birth anniversary with a doodle on February 28. An acclaimed Victorian painter, Tenniel is celebrated for his illustrations for Lewis Carroll's Alice's Adventures in Wonderland and Through the Looking-Glass. Lewis Carroll noticed Tenniel's distinct style of work and in 1864, approached the artist to illustrate his book, Alice's Adventures in Wonderland.\n"
          ]
        }
      ]
    },
    {
      "cell_type": "markdown",
      "source": [
        "Creating a function template using above steps:"
      ],
      "metadata": {
        "id": "R84yj9iqdNKv"
      }
    },
    {
      "cell_type": "code",
      "source": [
        "def summarizer(text, tokenizer, max_sent_in_summary=3):\n",
        "    doc = nlp(text_corpus.replace(\"\\n\", \"\"))\n",
        "    sentences = [sent.string.strip() for sent in doc.sents]\n",
        "    sentence_organizer = {k:v for v,k in enumerate(sentences)}\n",
        "    tf_idf_vectorizer = TfidfVectorizer(min_df=2,  max_features=None, \n",
        "                                        strip_accents='unicode', \n",
        "                                        analyzer='word',\n",
        "                                        token_pattern=r'\\w{1,}',\n",
        "                                        ngram_range=(1, 3), \n",
        "                                        use_idf=1,smooth_idf=1,\n",
        "                                        sublinear_tf=1,\n",
        "                                        stop_words = 'english')\n",
        "    tf_idf_vectorizer.fit(sentences)\n",
        "    sentence_vectors = tf_idf_vectorizer.transform(sentences)\n",
        "    sentence_scores = np.array(sentence_vectors.sum(axis=1)).ravel()\n",
        "    N = max_sent_in_summary\n",
        "    top_n_sentences = [sentences[ind] for ind in np.argsort(sentence_scores, axis=0)[::-1][:N]]\n",
        "    mapped_top_n_sentences = [(sentence,sentence_organizer[sentence]) for sentence in top_n_sentences]\n",
        "    mapped_top_n_sentences = sorted(mapped_top_n_sentences, key = lambda x: x[1])\n",
        "    ordered_scored_sentences = [element[0] for element in mapped_top_n_sentences]\n",
        "    summary = \" \".join(ordered_scored_sentences)\n",
        "    return summary"
      ],
      "metadata": {
        "id": "n2TuFJ9odPgp"
      },
      "execution_count": null,
      "outputs": []
    },
    {
      "cell_type": "code",
      "source": [
        "print(\"Summarizer Result: \\n\", summarizer(text=text_corpus, tokenizer=nlp, max_sent_in_summary=3))"
      ],
      "metadata": {
        "colab": {
          "base_uri": "https://localhost:8080/"
        },
        "id": "nWpfOO_cdglQ",
        "outputId": "52519dd4-d063-478d-eda1-076c15ec1b7d"
      },
      "execution_count": null,
      "outputs": [
        {
          "output_type": "stream",
          "name": "stdout",
          "text": [
            "Summarizer Result: \n",
            " Google celebrated British illustrator and artist Sir John Tenniel's 200th birth anniversary with a doodle on February 28. An acclaimed Victorian painter, Tenniel is celebrated for his illustrations for Lewis Carroll's Alice's Adventures in Wonderland and Through the Looking-Glass. Lewis Carroll noticed Tenniel's distinct style of work and in 1864, approached the artist to illustrate his book, Alice's Adventures in Wonderland.\n"
          ]
        }
      ]
    }
  ]
}